{
 "cells": [
  {
   "cell_type": "code",
   "execution_count": 2,
   "id": "4ace35dc",
   "metadata": {},
   "outputs": [],
   "source": [
    "def kalkulator (a,b):\n",
    "    jumlah = a + b           #ada beberapa proses yang dilakukan untu mengolah a dan b\n",
    "    kali = a * b\n",
    "    bagi = a / b\n",
    "    return jumlah,kali,bagi #mengoutputkan 3 variabel sekaligus dalam bentuk tuples"
   ]
  },
  {
   "cell_type": "code",
   "execution_count": 3,
   "id": "0f3b6b6b",
   "metadata": {},
   "outputs": [
    {
     "data": {
      "text/plain": [
       "(92, 180, 45.0)"
      ]
     },
     "execution_count": 3,
     "metadata": {},
     "output_type": "execute_result"
    }
   ],
   "source": [
    "kalkulator(90,2) #output yang di keluarkan berupa tuple"
   ]
  },
  {
   "cell_type": "code",
   "execution_count": 7,
   "id": "b4e2e318",
   "metadata": {},
   "outputs": [
    {
     "data": {
      "text/plain": [
       "92"
      ]
     },
     "execution_count": 7,
     "metadata": {},
     "output_type": "execute_result"
    }
   ],
   "source": [
    "jumlah"
   ]
  },
  {
   "cell_type": "code",
   "execution_count": 8,
   "id": "9839ee7b",
   "metadata": {},
   "outputs": [],
   "source": [
    "jumlah, kali, bagi = kalkulator(90,2)"
   ]
  },
  {
   "cell_type": "code",
   "execution_count": 9,
   "id": "e3d79fe7",
   "metadata": {},
   "outputs": [
    {
     "data": {
      "text/plain": [
       "92"
      ]
     },
     "execution_count": 9,
     "metadata": {},
     "output_type": "execute_result"
    }
   ],
   "source": [
    "jumlah"
   ]
  },
  {
   "cell_type": "code",
   "execution_count": 10,
   "id": "40314e6b",
   "metadata": {},
   "outputs": [
    {
     "data": {
      "text/plain": [
       "180"
      ]
     },
     "execution_count": 10,
     "metadata": {},
     "output_type": "execute_result"
    }
   ],
   "source": [
    "kali"
   ]
  },
  {
   "cell_type": "code",
   "execution_count": 11,
   "id": "6f6de851",
   "metadata": {},
   "outputs": [
    {
     "data": {
      "text/plain": [
       "45.0"
      ]
     },
     "execution_count": 11,
     "metadata": {},
     "output_type": "execute_result"
    }
   ],
   "source": [
    "bagi"
   ]
  },
  {
   "cell_type": "code",
   "execution_count": 12,
   "id": "f8160489",
   "metadata": {},
   "outputs": [],
   "source": [
    "def kalkulator (a,b):\n",
    "    jumlah_ =a + b           #ada beberapa proses yang dilakukan untu mengolah a dan b\n",
    "    kali_ = a * b\n",
    "    bagi_ = a / b\n",
    "    return {'Jumlah':jumlah,'Hasil Kali':kali,'Hasil bagi': bagi}\n",
    "# agar outputnya laebih mudah dibaca di gunakan dapat dilakukan hal diatas"
   ]
  },
  {
   "cell_type": "code",
   "execution_count": 14,
   "id": "12304786",
   "metadata": {},
   "outputs": [
    {
     "data": {
      "text/plain": [
       "{'Jumlah': 92, 'Hasil Kali': 180, 'Hasil bagi': 45.0}"
      ]
     },
     "execution_count": 14,
     "metadata": {},
     "output_type": "execute_result"
    }
   ],
   "source": [
    "kalkulator(90,2)"
   ]
  },
  {
   "cell_type": "code",
   "execution_count": null,
   "id": "949a0d64",
   "metadata": {},
   "outputs": [],
   "source": []
  }
 ],
 "metadata": {
  "kernelspec": {
   "display_name": "Python 3",
   "language": "python",
   "name": "python3"
  },
  "language_info": {
   "codemirror_mode": {
    "name": "ipython",
    "version": 3
   },
   "file_extension": ".py",
   "mimetype": "text/x-python",
   "name": "python",
   "nbconvert_exporter": "python",
   "pygments_lexer": "ipython3",
   "version": "3.8.8"
  }
 },
 "nbformat": 4,
 "nbformat_minor": 5
}
