{
 "cells": [
  {
   "cell_type": "code",
   "execution_count": 2,
   "id": "968de36c",
   "metadata": {},
   "outputs": [],
   "source": [
    "def fungsi_penjumlahan (a, b): # parameter merupakan inputan yang dimasukkan dambil memanggil fungsi\n",
    "    sum = a+b                  # proses penjumlahan\n",
    "    return sum                 # nilai yang di kembalikan sebagai output pemanggil"
   ]
  },
  {
   "cell_type": "code",
   "execution_count": 3,
   "id": "bec25600",
   "metadata": {},
   "outputs": [
    {
     "data": {
      "text/plain": [
       "10"
      ]
     },
     "execution_count": 3,
     "metadata": {},
     "output_type": "execute_result"
    }
   ],
   "source": [
    "fungsi_penjumlahan(8,2)"
   ]
  },
  {
   "cell_type": "code",
   "execution_count": 5,
   "id": "08c00504",
   "metadata": {},
   "outputs": [],
   "source": [
    "def fungsi_rata2(a,b,c=1): # c menjadi nilai yang akan menjadi pembagi dari penjumlahan a dan b\n",
    "    jumlah = a+b\n",
    "    rata2 = jumlah/c # default c diisi menjadi nilai 1 agar walaupun user tidak menginputkan pembagi\n",
    "    return rata2     # sehingga fungsi dapat tetap dijalankan walaupun tidak ada inputan c\n",
    "    "
   ]
  },
  {
   "cell_type": "code",
   "execution_count": 7,
   "id": "02d2580e",
   "metadata": {},
   "outputs": [
    {
     "data": {
      "text/plain": [
       "15.0"
      ]
     },
     "execution_count": 7,
     "metadata": {},
     "output_type": "execute_result"
    }
   ],
   "source": [
    "fungsi_rata2 (12,3)"
   ]
  },
  {
   "cell_type": "code",
   "execution_count": 8,
   "id": "7f6374ee",
   "metadata": {},
   "outputs": [
    {
     "data": {
      "text/plain": [
       "3.0"
      ]
     },
     "execution_count": 8,
     "metadata": {},
     "output_type": "execute_result"
    }
   ],
   "source": [
    "fungsi_rata2 (12,3,5)"
   ]
  },
  {
   "cell_type": "code",
   "execution_count": 9,
   "id": "1694bfbc",
   "metadata": {},
   "outputs": [
    {
     "data": {
      "text/plain": [
       "3.0"
      ]
     },
     "execution_count": 9,
     "metadata": {},
     "output_type": "execute_result"
    }
   ],
   "source": [
    "fungsi_rata2 (a = 12, b = 3, c = 5) #untuk memudahkan pemabacaan angka pada penginputan parameter\n",
    "                                    #dapat diinputkan dengan cara mendeklarasikan juga variabelnya"
   ]
  },
  {
   "cell_type": "code",
   "execution_count": 10,
   "id": "2f700f04",
   "metadata": {},
   "outputs": [],
   "source": [
    "def fungsi_rata2(a,b,c=1): # c menjadi nilai yang akan menjadi pembagi dari penjumlahan a dan b\n",
    "    global jumlah #agar variabel tetap dapat diakses di luar fungsi yang ada \n",
    "    jumlah = a+b\n",
    "    rata2 = jumlah/c # default c diisi menjadi nilai 1 agar walaupun user tidak menginputkan pembagi\n",
    "    return rata2     # sehingga fungsi dapat tetap dijalankan walaupun tidak ada inputan c\n",
    "    "
   ]
  },
  {
   "cell_type": "code",
   "execution_count": 12,
   "id": "7ab6fd79",
   "metadata": {},
   "outputs": [
    {
     "data": {
      "text/plain": [
       "15.0"
      ]
     },
     "execution_count": 12,
     "metadata": {},
     "output_type": "execute_result"
    }
   ],
   "source": [
    "fungsi_rata2(12,3)"
   ]
  },
  {
   "cell_type": "code",
   "execution_count": 13,
   "id": "6ab5d75c",
   "metadata": {},
   "outputs": [
    {
     "data": {
      "text/plain": [
       "15"
      ]
     },
     "execution_count": 13,
     "metadata": {},
     "output_type": "execute_result"
    }
   ],
   "source": [
    "jumlah #variabel sudah dapat di panggil di luar fungsi"
   ]
  },
  {
   "cell_type": "code",
   "execution_count": null,
   "id": "2394b189",
   "metadata": {},
   "outputs": [],
   "source": []
  }
 ],
 "metadata": {
  "kernelspec": {
   "display_name": "Python 3",
   "language": "python",
   "name": "python3"
  },
  "language_info": {
   "codemirror_mode": {
    "name": "ipython",
    "version": 3
   },
   "file_extension": ".py",
   "mimetype": "text/x-python",
   "name": "python",
   "nbconvert_exporter": "python",
   "pygments_lexer": "ipython3",
   "version": "3.8.8"
  }
 },
 "nbformat": 4,
 "nbformat_minor": 5
}
