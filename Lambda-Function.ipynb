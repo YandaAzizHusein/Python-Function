{
 "cells": [
  {
   "cell_type": "markdown",
   "id": "c2b9884d",
   "metadata": {},
   "source": [
    "fungsi lambda adalah satu baris fungsi yang di deklarasikan tanpa nama"
   ]
  },
  {
   "cell_type": "code",
   "execution_count": 6,
   "id": "e3e4f139",
   "metadata": {},
   "outputs": [],
   "source": [
    "#contoh fungsi Normal\n",
    "\n",
    "def fungsi_persegi(x):\n",
    "    persegi = x**2\n",
    "    return persegi"
   ]
  },
  {
   "cell_type": "code",
   "execution_count": 7,
   "id": "a483425e",
   "metadata": {},
   "outputs": [
    {
     "data": {
      "text/plain": [
       "25"
      ]
     },
     "execution_count": 7,
     "metadata": {},
     "output_type": "execute_result"
    }
   ],
   "source": [
    "fungsi_persegi(5)"
   ]
  },
  {
   "cell_type": "code",
   "execution_count": 11,
   "id": "89bcfb46",
   "metadata": {},
   "outputs": [],
   "source": [
    "hitung_persegi = lambda x: x**2 # x pertama merupakan input parameter\n",
    "                                # x kedua merupakan proses dan return output\n",
    "                                # hitung persegi merupakan nama fungsi\n",
    "                                # tag lambda wajib di tulis sebagai identitas fungsi lambda "
   ]
  },
  {
   "cell_type": "code",
   "execution_count": 12,
   "id": "80f9de35",
   "metadata": {},
   "outputs": [
    {
     "data": {
      "text/plain": [
       "4"
      ]
     },
     "execution_count": 12,
     "metadata": {},
     "output_type": "execute_result"
    }
   ],
   "source": [
    "hitung_persegi(2)"
   ]
  },
  {
   "cell_type": "code",
   "execution_count": 14,
   "id": "e448acc5",
   "metadata": {},
   "outputs": [],
   "source": [
    "rata2 = lambda x,y,z : (x+y)/z # contoh fungsi lambda dengan banyak inputan"
   ]
  },
  {
   "cell_type": "code",
   "execution_count": 15,
   "id": "362fc4ad",
   "metadata": {},
   "outputs": [
    {
     "data": {
      "text/plain": [
       "35.0"
      ]
     },
     "execution_count": 15,
     "metadata": {},
     "output_type": "execute_result"
    }
   ],
   "source": [
    "rata2(15,90,3)"
   ]
  },
  {
   "cell_type": "code",
   "execution_count": 17,
   "id": "4aeadb9c",
   "metadata": {},
   "outputs": [],
   "source": [
    "umur = [19,32,4,42,23,42,27,49,22,18,26,39,29,20]"
   ]
  },
  {
   "cell_type": "code",
   "execution_count": 23,
   "id": "ab9e0c6f",
   "metadata": {},
   "outputs": [
    {
     "data": {
      "text/plain": [
       "list"
      ]
     },
     "execution_count": 23,
     "metadata": {},
     "output_type": "execute_result"
    }
   ],
   "source": [
    "type(umur)"
   ]
  },
  {
   "cell_type": "code",
   "execution_count": 24,
   "id": "9d70316c",
   "metadata": {},
   "outputs": [],
   "source": [
    "umur_dibawah_25 = list(filter (lambda x : x < 25, umur)) \n",
    "# fungsi list agar outpout dapat berbentuk dalam list\n",
    "# fungsi lambda sebagai proses di dalamnnya \n",
    "# x pertama sebagai inputan \n",
    "# x kedua sebagai proses dan output\n",
    "# umur sebagai data yang difilter"
   ]
  },
  {
   "cell_type": "code",
   "execution_count": 20,
   "id": "c185061d",
   "metadata": {},
   "outputs": [
    {
     "data": {
      "text/plain": [
       "[19, 4, 23, 22, 18, 20]"
      ]
     },
     "execution_count": 20,
     "metadata": {},
     "output_type": "execute_result"
    }
   ],
   "source": [
    "umur_dibawah_25"
   ]
  },
  {
   "cell_type": "code",
   "execution_count": 21,
   "id": "b43aee75",
   "metadata": {},
   "outputs": [],
   "source": [
    "umur_dibawah_25.sort()"
   ]
  },
  {
   "cell_type": "code",
   "execution_count": 22,
   "id": "c8db3443",
   "metadata": {},
   "outputs": [
    {
     "data": {
      "text/plain": [
       "[4, 18, 19, 20, 22, 23]"
      ]
     },
     "execution_count": 22,
     "metadata": {},
     "output_type": "execute_result"
    }
   ],
   "source": [
    "umur_dibawah_25"
   ]
  },
  {
   "cell_type": "code",
   "execution_count": null,
   "id": "2546cae0",
   "metadata": {},
   "outputs": [],
   "source": []
  }
 ],
 "metadata": {
  "kernelspec": {
   "display_name": "Python 3",
   "language": "python",
   "name": "python3"
  },
  "language_info": {
   "codemirror_mode": {
    "name": "ipython",
    "version": 3
   },
   "file_extension": ".py",
   "mimetype": "text/x-python",
   "name": "python",
   "nbconvert_exporter": "python",
   "pygments_lexer": "ipython3",
   "version": "3.8.8"
  }
 },
 "nbformat": 4,
 "nbformat_minor": 5
}
